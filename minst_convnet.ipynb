{
 "cells": [
  {
   "cell_type": "markdown",
   "metadata": {},
   "source": [
    "# 手写数字识别卷积神经网络\n",
    "\n",
    "本文件是为了配合“迁移学习”内容而编写的文件，它的作用是将训练手写识别卷积神经网络，并将其保存在硬盘上以便迁移学习的时候能够读取该文件\n",
    "本文件是集智AI学园http://campus.swarma.org 出品的“火炬上的深度学习”第IV课的配套源代码"
   ]
  },
  {
   "cell_type": "code",
   "execution_count": 1,
   "metadata": {},
   "outputs": [],
   "source": [
    "# 导入所需要的包，请保证torchvision已经在你的环境中安装好\n",
    "import torch\n",
    "import torch.nn as nn\n",
    "from torch.autograd import Variable\n",
    "import torch.optim as optim\n",
    "import torch.nn.functional as F\n",
    "\n",
    "import torchvision.datasets as dsets\n",
    "import torchvision.transforms as transforms\n",
    "\n",
    "import matplotlib.pyplot as plt\n",
    "import numpy as np\n",
    "\n",
    "%matplotlib inline"
   ]
  },
  {
   "cell_type": "code",
   "execution_count": 12,
   "metadata": {},
   "outputs": [],
   "source": [
    "import os\n",
    "os.chdir('D:/JupyterNotebook/深度学习原理与PyTorch实战-源代码/05_Convolution/')"
   ]
  },
  {
   "cell_type": "code",
   "execution_count": 13,
   "metadata": {},
   "outputs": [],
   "source": [
    "\n",
    "# Hyper Parameters \n",
    "image_size = 28  #图像的总尺寸28*28\n",
    "num_classes = 10  #标签的种类数\n",
    "num_epochs = 20  #训练的总循环周期\n",
    "batch_size = 64\n",
    "learning_rate = 0.001\n",
    "\n",
    "# 加载MINIST数据，如果没有下载过，就会在当前路径下新建/data子目录，并把文件存放其中\n",
    "\n",
    "train_dataset = dsets.MNIST(root='./data',  #文件存放路径\n",
    "                            train=True,   #提取训练集\n",
    "                            transform=transforms.ToTensor(),  #将图像转化为Tensor\n",
    "                            download=True)\n",
    "\n",
    "test_dataset = dsets.MNIST(root='./data', \n",
    "                           train=False, \n",
    "                           transform=transforms.ToTensor())\n",
    "\n",
    "# 训练数据集的加载器，自动将数据分割成batch，顺序随机打乱\n",
    "train_loader = torch.utils.data.DataLoader(dataset=train_dataset, \n",
    "                                           batch_size=batch_size, \n",
    "                                           shuffle=True)\n",
    "# 测试数据集的加载器，自动将数据分割成batch\n",
    "permutes = np.random.permutation(range(len(test_dataset)))\n",
    "indices_val = permutes[:5000]\n",
    "indices_test = permutes[5000:]\n",
    "sampler_val = torch.utils.data.sampler.SubsetRandomSampler(indices_val)\n",
    "sampler_test = torch.utils.data.sampler.SubsetRandomSampler(indices_test)\n",
    "validation_loader = torch.utils.data.DataLoader(dataset =train_dataset,\n",
    "                                                batch_size = batch_size,\n",
    "                                                shuffle = False,\n",
    "                                                sampler = sampler_val\n",
    "                                               )\n",
    "test_loader = torch.utils.data.DataLoader(dataset=test_dataset, \n",
    "                                          batch_size=batch_size, \n",
    "                                          shuffle=False,\n",
    "                                          sampler = sampler_test\n",
    "                                         )"
   ]
  },
  {
   "cell_type": "code",
   "execution_count": 14,
   "metadata": {},
   "outputs": [],
   "source": [
    "#定义卷积神经网络：4和8为人为指定的两个卷积层的厚度\n",
    "depth = [4, 8]\n",
    "class ConvNet(nn.Module):\n",
    "    def __init__(self):\n",
    "        super(ConvNet, self).__init__()\n",
    "        self.conv1 = nn.Conv2d(1, 4, 5, padding = 2) #输入通道为1，输出通道为4，窗口大小为5，padding为2\n",
    "        self.pool = nn.MaxPool2d(2, 2) #一个窗口为2*2的pooling运算\n",
    "        self.conv2 = nn.Conv2d(depth[0], depth[1], 5, padding = 2) #第二层卷积，输入通道为depth[0], 输出通道为depth[1]，窗口wei15，padding为2\n",
    "        self.fc1 = nn.Linear(image_size // 4 * image_size // 4 * depth[1] , 512) #一个线性连接层，输入尺寸为最后一层立方体的平铺，输出层512个节点\n",
    "        self.fc2 = nn.Linear(512, num_classes) #最后一层线性分类单元，输入为\n",
    "\n",
    "    def forward(self, x):\n",
    "        #神经网络完成一步前馈运算的过程，从输入到输出\n",
    "        x = F.relu(self.conv1(x))\n",
    "        x = self.pool(x)\n",
    "        x = F.relu(self.conv2(x))\n",
    "        x = self.pool(x)\n",
    "        # 将立体的Tensor全部转换成一维的Tensor。两次pooling操作，所以图像维度减少了1/4\n",
    "        x = x.view(-1, image_size // 4 * image_size // 4 * depth[1])\n",
    "        x = F.relu(self.fc1(x)) #全链接，激活函数\n",
    "        x = F.dropout(x, training=self.training) #以默认为0.5的概率对这一层进行dropout操作\n",
    "        x = self.fc2(x) #全链接，激活函数\n",
    "        x = F.log_softmax(x, dim = 1) #log_softmax可以理解为概率对数值\n",
    "        return x\n",
    "    \n",
    "    def retrieve_features(self, x):\n",
    "        #提取卷积神经网络的特征图的函数，返回feature_map1, feature_map2为前两层卷积层的特征图\n",
    "        feature_map1 = F.relu(self.conv1(x))\n",
    "        x = self.pool(feature_map1)\n",
    "        feature_map2 = F.relu(self.conv2(x))\n",
    "        return (feature_map1, feature_map2)\n",
    "    "
   ]
  },
  {
   "cell_type": "code",
   "execution_count": 15,
   "metadata": {},
   "outputs": [
    {
     "name": "stdout",
     "output_type": "stream",
     "text": [
      "训练周期: 0 [0/60000 (0%)]\tLoss: 2.308936\t训练正确率: 3.12%\t校验正确率: 9.70%\n",
      "训练周期: 0 [800/60000 (11%)]\tLoss: 2.303631\t训练正确率: 9.78%\t校验正确率: 9.96%\n",
      "训练周期: 0 [1600/60000 (21%)]\tLoss: 2.282449\t训练正确率: 10.91%\t校验正确率: 12.48%\n",
      "训练周期: 0 [2400/60000 (32%)]\tLoss: 2.265794\t训练正确率: 12.62%\t校验正确率: 15.76%\n",
      "训练周期: 0 [3200/60000 (43%)]\tLoss: 2.204023\t训练正确率: 15.15%\t校验正确率: 43.00%\n",
      "训练周期: 0 [4000/60000 (53%)]\tLoss: 1.745055\t训练正确率: 20.23%\t校验正确率: 71.42%\n",
      "训练周期: 0 [4800/60000 (64%)]\tLoss: 0.970608\t训练正确率: 27.36%\t校验正确率: 77.92%\n",
      "训练周期: 0 [5600/60000 (75%)]\tLoss: 0.732174\t训练正确率: 34.27%\t校验正确率: 82.94%\n",
      "训练周期: 0 [6400/60000 (85%)]\tLoss: 0.534779\t训练正确率: 40.11%\t校验正确率: 86.46%\n",
      "训练周期: 0 [7200/60000 (96%)]\tLoss: 0.382045\t训练正确率: 44.96%\t校验正确率: 88.18%\n",
      "训练周期: 1 [0/60000 (0%)]\tLoss: 0.537758\t训练正确率: 82.81%\t校验正确率: 88.98%\n",
      "训练周期: 1 [800/60000 (11%)]\tLoss: 0.443771\t训练正确率: 86.70%\t校验正确率: 89.28%\n",
      "训练周期: 1 [1600/60000 (21%)]\tLoss: 0.438019\t训练正确率: 86.97%\t校验正确率: 90.32%\n",
      "训练周期: 1 [2400/60000 (32%)]\tLoss: 0.534258\t训练正确率: 87.20%\t校验正确率: 90.98%\n",
      "训练周期: 1 [3200/60000 (43%)]\tLoss: 0.609724\t训练正确率: 87.82%\t校验正确率: 91.22%\n",
      "训练周期: 1 [4000/60000 (53%)]\tLoss: 0.503949\t训练正确率: 88.25%\t校验正确率: 92.08%\n",
      "训练周期: 1 [4800/60000 (64%)]\tLoss: 0.382359\t训练正确率: 88.57%\t校验正确率: 92.12%\n",
      "训练周期: 1 [5600/60000 (75%)]\tLoss: 0.309369\t训练正确率: 88.80%\t校验正确率: 92.96%\n",
      "训练周期: 1 [6400/60000 (85%)]\tLoss: 0.259825\t训练正确率: 89.13%\t校验正确率: 93.30%\n",
      "训练周期: 1 [7200/60000 (96%)]\tLoss: 0.155115\t训练正确率: 89.42%\t校验正确率: 93.46%\n",
      "训练周期: 2 [0/60000 (0%)]\tLoss: 0.269774\t训练正确率: 90.62%\t校验正确率: 93.76%\n",
      "训练周期: 2 [800/60000 (11%)]\tLoss: 0.143996\t训练正确率: 91.69%\t校验正确率: 94.00%\n",
      "训练周期: 2 [1600/60000 (21%)]\tLoss: 0.202687\t训练正确率: 91.96%\t校验正确率: 94.30%\n",
      "训练周期: 2 [2400/60000 (32%)]\tLoss: 0.319500\t训练正确率: 92.20%\t校验正确率: 94.02%\n",
      "训练周期: 2 [3200/60000 (43%)]\tLoss: 0.119089\t训练正确率: 92.43%\t校验正确率: 94.28%\n",
      "训练周期: 2 [4000/60000 (53%)]\tLoss: 0.220637\t训练正确率: 92.53%\t校验正确率: 94.50%\n",
      "训练周期: 2 [4800/60000 (64%)]\tLoss: 0.232829\t训练正确率: 92.49%\t校验正确率: 94.58%\n",
      "训练周期: 2 [5600/60000 (75%)]\tLoss: 0.097066\t训练正确率: 92.60%\t校验正确率: 95.24%\n",
      "训练周期: 2 [6400/60000 (85%)]\tLoss: 0.242104\t训练正确率: 92.70%\t校验正确率: 95.16%\n",
      "训练周期: 2 [7200/60000 (96%)]\tLoss: 0.175943\t训练正确率: 92.85%\t校验正确率: 95.22%\n",
      "训练周期: 3 [0/60000 (0%)]\tLoss: 0.136544\t训练正确率: 96.88%\t校验正确率: 95.30%\n",
      "训练周期: 3 [800/60000 (11%)]\tLoss: 0.303296\t训练正确率: 93.64%\t校验正确率: 95.52%\n",
      "训练周期: 3 [1600/60000 (21%)]\tLoss: 0.304885\t训练正确率: 93.59%\t校验正确率: 95.54%\n",
      "训练周期: 3 [2400/60000 (32%)]\tLoss: 0.056429\t训练正确率: 93.57%\t校验正确率: 95.58%\n",
      "训练周期: 3 [3200/60000 (43%)]\tLoss: 0.203148\t训练正确率: 93.71%\t校验正确率: 95.80%\n",
      "训练周期: 3 [4000/60000 (53%)]\tLoss: 0.156573\t训练正确率: 93.70%\t校验正确率: 96.02%\n",
      "训练周期: 3 [4800/60000 (64%)]\tLoss: 0.476649\t训练正确率: 93.85%\t校验正确率: 95.78%\n",
      "训练周期: 3 [5600/60000 (75%)]\tLoss: 0.121862\t训练正确率: 93.96%\t校验正确率: 95.84%\n",
      "训练周期: 3 [6400/60000 (85%)]\tLoss: 0.139621\t训练正确率: 94.04%\t校验正确率: 96.30%\n",
      "训练周期: 3 [7200/60000 (96%)]\tLoss: 0.255376\t训练正确率: 94.09%\t校验正确率: 96.38%\n",
      "训练周期: 4 [0/60000 (0%)]\tLoss: 0.144422\t训练正确率: 93.75%\t校验正确率: 96.14%\n",
      "训练周期: 4 [800/60000 (11%)]\tLoss: 0.124619\t训练正确率: 94.77%\t校验正确率: 96.32%\n",
      "训练周期: 4 [1600/60000 (21%)]\tLoss: 0.332077\t训练正确率: 94.92%\t校验正确率: 96.48%\n",
      "训练周期: 4 [2400/60000 (32%)]\tLoss: 0.197024\t训练正确率: 94.94%\t校验正确率: 96.20%\n",
      "训练周期: 4 [3200/60000 (43%)]\tLoss: 0.144170\t训练正确率: 94.93%\t校验正确率: 96.52%\n",
      "训练周期: 4 [4000/60000 (53%)]\tLoss: 0.188738\t训练正确率: 94.95%\t校验正确率: 96.60%\n",
      "训练周期: 4 [4800/60000 (64%)]\tLoss: 0.080487\t训练正确率: 95.00%\t校验正确率: 96.78%\n",
      "训练周期: 4 [5600/60000 (75%)]\tLoss: 0.056522\t训练正确率: 95.02%\t校验正确率: 96.84%\n",
      "训练周期: 4 [6400/60000 (85%)]\tLoss: 0.185739\t训练正确率: 95.04%\t校验正确率: 96.58%\n",
      "训练周期: 4 [7200/60000 (96%)]\tLoss: 0.115912\t训练正确率: 95.06%\t校验正确率: 96.62%\n",
      "训练周期: 5 [0/60000 (0%)]\tLoss: 0.103090\t训练正确率: 96.88%\t校验正确率: 96.68%\n",
      "训练周期: 5 [800/60000 (11%)]\tLoss: 0.079558\t训练正确率: 95.59%\t校验正确率: 96.94%\n",
      "训练周期: 5 [1600/60000 (21%)]\tLoss: 0.088018\t训练正确率: 95.73%\t校验正确率: 96.88%\n",
      "训练周期: 5 [2400/60000 (32%)]\tLoss: 0.117992\t训练正确率: 95.83%\t校验正确率: 96.96%\n",
      "训练周期: 5 [3200/60000 (43%)]\tLoss: 0.151292\t训练正确率: 95.73%\t校验正确率: 96.82%\n",
      "训练周期: 5 [4000/60000 (53%)]\tLoss: 0.087989\t训练正确率: 95.69%\t校验正确率: 97.10%\n",
      "训练周期: 5 [4800/60000 (64%)]\tLoss: 0.112851\t训练正确率: 95.65%\t校验正确率: 96.96%\n",
      "训练周期: 5 [5600/60000 (75%)]\tLoss: 0.113363\t训练正确率: 95.67%\t校验正确率: 97.10%\n",
      "训练周期: 5 [6400/60000 (85%)]\tLoss: 0.152715\t训练正确率: 95.77%\t校验正确率: 97.20%\n",
      "训练周期: 5 [7200/60000 (96%)]\tLoss: 0.180578\t训练正确率: 95.78%\t校验正确率: 97.28%\n",
      "训练周期: 6 [0/60000 (0%)]\tLoss: 0.167577\t训练正确率: 93.75%\t校验正确率: 97.24%\n",
      "训练周期: 6 [800/60000 (11%)]\tLoss: 0.339301\t训练正确率: 95.70%\t校验正确率: 97.14%\n",
      "训练周期: 6 [1600/60000 (21%)]\tLoss: 0.083092\t训练正确率: 95.92%\t校验正确率: 97.28%\n",
      "训练周期: 6 [2400/60000 (32%)]\tLoss: 0.097840\t训练正确率: 95.98%\t校验正确率: 97.20%\n",
      "训练周期: 6 [3200/60000 (43%)]\tLoss: 0.161115\t训练正确率: 95.98%\t校验正确率: 97.12%\n",
      "训练周期: 6 [4000/60000 (53%)]\tLoss: 0.051259\t训练正确率: 96.04%\t校验正确率: 97.12%\n",
      "训练周期: 6 [4800/60000 (64%)]\tLoss: 0.140951\t训练正确率: 96.10%\t校验正确率: 97.46%\n",
      "训练周期: 6 [5600/60000 (75%)]\tLoss: 0.063973\t训练正确率: 96.09%\t校验正确率: 97.18%\n",
      "训练周期: 6 [6400/60000 (85%)]\tLoss: 0.239692\t训练正确率: 96.13%\t校验正确率: 97.46%\n",
      "训练周期: 6 [7200/60000 (96%)]\tLoss: 0.153435\t训练正确率: 96.19%\t校验正确率: 97.58%\n",
      "训练周期: 7 [0/60000 (0%)]\tLoss: 0.030832\t训练正确率: 100.00%\t校验正确率: 97.56%\n",
      "训练周期: 7 [800/60000 (11%)]\tLoss: 0.124428\t训练正确率: 96.75%\t校验正确率: 97.52%\n",
      "训练周期: 7 [1600/60000 (21%)]\tLoss: 0.087373\t训练正确率: 96.74%\t校验正确率: 97.70%\n",
      "训练周期: 7 [2400/60000 (32%)]\tLoss: 0.161874\t训练正确率: 96.65%\t校验正确率: 97.66%\n",
      "训练周期: 7 [3200/60000 (43%)]\tLoss: 0.038465\t训练正确率: 96.66%\t校验正确率: 97.48%\n",
      "训练周期: 7 [4000/60000 (53%)]\tLoss: 0.109396\t训练正确率: 96.64%\t校验正确率: 97.72%\n",
      "训练周期: 7 [4800/60000 (64%)]\tLoss: 0.212265\t训练正确率: 96.60%\t校验正确率: 97.78%\n",
      "训练周期: 7 [5600/60000 (75%)]\tLoss: 0.282528\t训练正确率: 96.63%\t校验正确率: 97.56%\n",
      "训练周期: 7 [6400/60000 (85%)]\tLoss: 0.063007\t训练正确率: 96.64%\t校验正确率: 97.70%\n",
      "训练周期: 7 [7200/60000 (96%)]\tLoss: 0.152210\t训练正确率: 96.65%\t校验正确率: 97.60%\n",
      "训练周期: 8 [0/60000 (0%)]\tLoss: 0.137316\t训练正确率: 93.75%\t校验正确率: 98.02%\n",
      "训练周期: 8 [800/60000 (11%)]\tLoss: 0.018861\t训练正确率: 96.74%\t校验正确率: 97.88%\n",
      "训练周期: 8 [1600/60000 (21%)]\tLoss: 0.035530\t训练正确率: 96.81%\t校验正确率: 97.66%\n",
      "训练周期: 8 [2400/60000 (32%)]\tLoss: 0.137044\t训练正确率: 96.79%\t校验正确率: 97.82%\n",
      "训练周期: 8 [3200/60000 (43%)]\tLoss: 0.169923\t训练正确率: 96.89%\t校验正确率: 97.84%\n",
      "训练周期: 8 [4000/60000 (53%)]\tLoss: 0.051490\t训练正确率: 96.91%\t校验正确率: 97.78%\n",
      "训练周期: 8 [4800/60000 (64%)]\tLoss: 0.192631\t训练正确率: 96.85%\t校验正确率: 98.02%\n",
      "训练周期: 8 [5600/60000 (75%)]\tLoss: 0.121028\t训练正确率: 96.83%\t校验正确率: 97.90%\n",
      "训练周期: 8 [6400/60000 (85%)]\tLoss: 0.151503\t训练正确率: 96.81%\t校验正确率: 97.80%\n",
      "训练周期: 8 [7200/60000 (96%)]\tLoss: 0.060947\t训练正确率: 96.81%\t校验正确率: 97.86%\n",
      "训练周期: 9 [0/60000 (0%)]\tLoss: 0.147065\t训练正确率: 95.31%\t校验正确率: 97.84%\n",
      "训练周期: 9 [800/60000 (11%)]\tLoss: 0.105350\t训练正确率: 96.92%\t校验正确率: 97.88%\n",
      "训练周期: 9 [1600/60000 (21%)]\tLoss: 0.178302\t训练正确率: 96.88%\t校验正确率: 97.88%\n",
      "训练周期: 9 [2400/60000 (32%)]\tLoss: 0.119279\t训练正确率: 96.94%\t校验正确率: 98.12%\n",
      "训练周期: 9 [3200/60000 (43%)]\tLoss: 0.018557\t训练正确率: 96.97%\t校验正确率: 98.10%\n",
      "训练周期: 9 [4000/60000 (53%)]\tLoss: 0.102372\t训练正确率: 97.01%\t校验正确率: 98.02%\n",
      "训练周期: 9 [4800/60000 (64%)]\tLoss: 0.089076\t训练正确率: 97.12%\t校验正确率: 98.12%\n",
      "训练周期: 9 [5600/60000 (75%)]\tLoss: 0.036370\t训练正确率: 97.13%\t校验正确率: 98.08%\n",
      "训练周期: 9 [6400/60000 (85%)]\tLoss: 0.369382\t训练正确率: 97.11%\t校验正确率: 98.10%\n",
      "训练周期: 9 [7200/60000 (96%)]\tLoss: 0.070557\t训练正确率: 97.12%\t校验正确率: 97.86%\n",
      "训练周期: 10 [0/60000 (0%)]\tLoss: 0.110748\t训练正确率: 96.88%\t校验正确率: 97.92%\n",
      "训练周期: 10 [800/60000 (11%)]\tLoss: 0.025988\t训练正确率: 97.28%\t校验正确率: 97.92%\n",
      "训练周期: 10 [1600/60000 (21%)]\tLoss: 0.107999\t训练正确率: 97.20%\t校验正确率: 98.18%\n",
      "训练周期: 10 [2400/60000 (32%)]\tLoss: 0.205945\t训练正确率: 97.19%\t校验正确率: 98.24%\n",
      "训练周期: 10 [3200/60000 (43%)]\tLoss: 0.040558\t训练正确率: 97.20%\t校验正确率: 98.18%\n",
      "训练周期: 10 [4000/60000 (53%)]\tLoss: 0.149430\t训练正确率: 97.20%\t校验正确率: 98.18%\n",
      "训练周期: 10 [4800/60000 (64%)]\tLoss: 0.059857\t训练正确率: 97.25%\t校验正确率: 98.08%\n",
      "训练周期: 10 [5600/60000 (75%)]\tLoss: 0.059404\t训练正确率: 97.28%\t校验正确率: 98.36%\n",
      "训练周期: 10 [6400/60000 (85%)]\tLoss: 0.109784\t训练正确率: 97.28%\t校验正确率: 98.10%\n",
      "训练周期: 10 [7200/60000 (96%)]\tLoss: 0.065205\t训练正确率: 97.28%\t校验正确率: 98.24%\n",
      "训练周期: 11 [0/60000 (0%)]\tLoss: 0.097594\t训练正确率: 96.88%\t校验正确率: 98.26%\n",
      "训练周期: 11 [800/60000 (11%)]\tLoss: 0.064209\t训练正确率: 97.18%\t校验正确率: 98.10%\n",
      "训练周期: 11 [1600/60000 (21%)]\tLoss: 0.057399\t训练正确率: 97.26%\t校验正确率: 98.26%\n",
      "训练周期: 11 [2400/60000 (32%)]\tLoss: 0.080210\t训练正确率: 97.28%\t校验正确率: 98.08%\n",
      "训练周期: 11 [3200/60000 (43%)]\tLoss: 0.032537\t训练正确率: 97.32%\t校验正确率: 98.30%\n",
      "训练周期: 11 [4000/60000 (53%)]\tLoss: 0.025987\t训练正确率: 97.34%\t校验正确率: 98.22%\n",
      "训练周期: 11 [4800/60000 (64%)]\tLoss: 0.144341\t训练正确率: 97.37%\t校验正确率: 98.30%\n"
     ]
    },
    {
     "name": "stdout",
     "output_type": "stream",
     "text": [
      "训练周期: 11 [5600/60000 (75%)]\tLoss: 0.053505\t训练正确率: 97.38%\t校验正确率: 98.22%\n",
      "训练周期: 11 [6400/60000 (85%)]\tLoss: 0.109054\t训练正确率: 97.41%\t校验正确率: 98.34%\n",
      "训练周期: 11 [7200/60000 (96%)]\tLoss: 0.169888\t训练正确率: 97.40%\t校验正确率: 98.32%\n",
      "训练周期: 12 [0/60000 (0%)]\tLoss: 0.038727\t训练正确率: 98.44%\t校验正确率: 98.18%\n",
      "训练周期: 12 [800/60000 (11%)]\tLoss: 0.077708\t训练正确率: 97.90%\t校验正确率: 98.26%\n",
      "训练周期: 12 [1600/60000 (21%)]\tLoss: 0.095359\t训练正确率: 97.82%\t校验正确率: 98.38%\n",
      "训练周期: 12 [2400/60000 (32%)]\tLoss: 0.040391\t训练正确率: 97.57%\t校验正确率: 98.30%\n",
      "训练周期: 12 [3200/60000 (43%)]\tLoss: 0.124837\t训练正确率: 97.54%\t校验正确率: 98.24%\n",
      "训练周期: 12 [4000/60000 (53%)]\tLoss: 0.099167\t训练正确率: 97.58%\t校验正确率: 98.38%\n",
      "训练周期: 12 [4800/60000 (64%)]\tLoss: 0.018569\t训练正确率: 97.61%\t校验正确率: 98.42%\n",
      "训练周期: 12 [5600/60000 (75%)]\tLoss: 0.041253\t训练正确率: 97.57%\t校验正确率: 98.28%\n",
      "训练周期: 12 [6400/60000 (85%)]\tLoss: 0.038803\t训练正确率: 97.54%\t校验正确率: 98.42%\n",
      "训练周期: 12 [7200/60000 (96%)]\tLoss: 0.132479\t训练正确率: 97.54%\t校验正确率: 98.44%\n",
      "训练周期: 13 [0/60000 (0%)]\tLoss: 0.034241\t训练正确率: 98.44%\t校验正确率: 98.44%\n",
      "训练周期: 13 [800/60000 (11%)]\tLoss: 0.089252\t训练正确率: 97.79%\t校验正确率: 98.46%\n",
      "训练周期: 13 [1600/60000 (21%)]\tLoss: 0.032497\t训练正确率: 97.84%\t校验正确率: 98.48%\n",
      "训练周期: 13 [2400/60000 (32%)]\tLoss: 0.087986\t训练正确率: 97.73%\t校验正确率: 98.48%\n",
      "训练周期: 13 [3200/60000 (43%)]\tLoss: 0.056482\t训练正确率: 97.71%\t校验正确率: 98.56%\n",
      "训练周期: 13 [4000/60000 (53%)]\tLoss: 0.098851\t训练正确率: 97.64%\t校验正确率: 98.38%\n",
      "训练周期: 13 [4800/60000 (64%)]\tLoss: 0.060045\t训练正确率: 97.63%\t校验正确率: 98.46%\n",
      "训练周期: 13 [5600/60000 (75%)]\tLoss: 0.095784\t训练正确率: 97.68%\t校验正确率: 98.48%\n",
      "训练周期: 13 [6400/60000 (85%)]\tLoss: 0.057353\t训练正确率: 97.65%\t校验正确率: 98.54%\n",
      "训练周期: 13 [7200/60000 (96%)]\tLoss: 0.056978\t训练正确率: 97.67%\t校验正确率: 98.52%\n",
      "训练周期: 14 [0/60000 (0%)]\tLoss: 0.013680\t训练正确率: 100.00%\t校验正确率: 98.36%\n",
      "训练周期: 14 [800/60000 (11%)]\tLoss: 0.065137\t训练正确率: 97.90%\t校验正确率: 98.38%\n",
      "训练周期: 14 [1600/60000 (21%)]\tLoss: 0.008685\t训练正确率: 97.77%\t校验正确率: 98.36%\n",
      "训练周期: 14 [2400/60000 (32%)]\tLoss: 0.096244\t训练正确率: 97.68%\t校验正确率: 98.38%\n",
      "训练周期: 14 [3200/60000 (43%)]\tLoss: 0.083866\t训练正确率: 97.65%\t校验正确率: 98.52%\n",
      "训练周期: 14 [4000/60000 (53%)]\tLoss: 0.134128\t训练正确率: 97.60%\t校验正确率: 98.48%\n",
      "训练周期: 14 [4800/60000 (64%)]\tLoss: 0.041514\t训练正确率: 97.62%\t校验正确率: 98.54%\n",
      "训练周期: 14 [5600/60000 (75%)]\tLoss: 0.014772\t训练正确率: 97.68%\t校验正确率: 98.50%\n",
      "训练周期: 14 [6400/60000 (85%)]\tLoss: 0.026735\t训练正确率: 97.69%\t校验正确率: 98.44%\n",
      "训练周期: 14 [7200/60000 (96%)]\tLoss: 0.166600\t训练正确率: 97.76%\t校验正确率: 98.58%\n",
      "训练周期: 15 [0/60000 (0%)]\tLoss: 0.127338\t训练正确率: 96.88%\t校验正确率: 98.38%\n",
      "训练周期: 15 [800/60000 (11%)]\tLoss: 0.014435\t训练正确率: 97.91%\t校验正确率: 98.52%\n",
      "训练周期: 15 [1600/60000 (21%)]\tLoss: 0.071957\t训练正确率: 97.92%\t校验正确率: 98.68%\n",
      "训练周期: 15 [2400/60000 (32%)]\tLoss: 0.033426\t训练正确率: 98.02%\t校验正确率: 98.74%\n",
      "训练周期: 15 [3200/60000 (43%)]\tLoss: 0.044869\t训练正确率: 97.92%\t校验正确率: 98.78%\n",
      "训练周期: 15 [4000/60000 (53%)]\tLoss: 0.057660\t训练正确率: 97.89%\t校验正确率: 98.44%\n",
      "训练周期: 15 [4800/60000 (64%)]\tLoss: 0.055359\t训练正确率: 97.88%\t校验正确率: 98.60%\n",
      "训练周期: 15 [5600/60000 (75%)]\tLoss: 0.064917\t训练正确率: 97.88%\t校验正确率: 98.64%\n",
      "训练周期: 15 [6400/60000 (85%)]\tLoss: 0.247309\t训练正确率: 97.86%\t校验正确率: 98.62%\n",
      "训练周期: 15 [7200/60000 (96%)]\tLoss: 0.028156\t训练正确率: 97.90%\t校验正确率: 98.56%\n",
      "训练周期: 16 [0/60000 (0%)]\tLoss: 0.074807\t训练正确率: 98.44%\t校验正确率: 98.58%\n",
      "训练周期: 16 [800/60000 (11%)]\tLoss: 0.049695\t训练正确率: 97.99%\t校验正确率: 98.60%\n",
      "训练周期: 16 [1600/60000 (21%)]\tLoss: 0.009081\t训练正确率: 97.96%\t校验正确率: 98.66%\n",
      "训练周期: 16 [2400/60000 (32%)]\tLoss: 0.011386\t训练正确率: 97.87%\t校验正确率: 98.74%\n",
      "训练周期: 16 [3200/60000 (43%)]\tLoss: 0.098963\t训练正确率: 97.85%\t校验正确率: 98.54%\n",
      "训练周期: 16 [4000/60000 (53%)]\tLoss: 0.125253\t训练正确率: 97.82%\t校验正确率: 98.66%\n",
      "训练周期: 16 [4800/60000 (64%)]\tLoss: 0.099631\t训练正确率: 97.83%\t校验正确率: 98.50%\n",
      "训练周期: 16 [5600/60000 (75%)]\tLoss: 0.246777\t训练正确率: 97.87%\t校验正确率: 98.54%\n",
      "训练周期: 16 [6400/60000 (85%)]\tLoss: 0.077106\t训练正确率: 97.90%\t校验正确率: 98.50%\n",
      "训练周期: 16 [7200/60000 (96%)]\tLoss: 0.007875\t训练正确率: 97.89%\t校验正确率: 98.60%\n",
      "训练周期: 17 [0/60000 (0%)]\tLoss: 0.053194\t训练正确率: 98.44%\t校验正确率: 98.68%\n",
      "训练周期: 17 [800/60000 (11%)]\tLoss: 0.095249\t训练正确率: 97.97%\t校验正确率: 98.76%\n",
      "训练周期: 17 [1600/60000 (21%)]\tLoss: 0.010920\t训练正确率: 98.03%\t校验正确率: 98.64%\n",
      "训练周期: 17 [2400/60000 (32%)]\tLoss: 0.053962\t训练正确率: 98.11%\t校验正确率: 98.58%\n",
      "训练周期: 17 [3200/60000 (43%)]\tLoss: 0.044724\t训练正确率: 98.06%\t校验正确率: 98.56%\n",
      "训练周期: 17 [4000/60000 (53%)]\tLoss: 0.049954\t训练正确率: 97.96%\t校验正确率: 98.82%\n",
      "训练周期: 17 [4800/60000 (64%)]\tLoss: 0.083309\t训练正确率: 97.95%\t校验正确率: 98.64%\n",
      "训练周期: 17 [5600/60000 (75%)]\tLoss: 0.058228\t训练正确率: 97.99%\t校验正确率: 98.66%\n",
      "训练周期: 17 [6400/60000 (85%)]\tLoss: 0.023785\t训练正确率: 98.01%\t校验正确率: 98.56%\n",
      "训练周期: 17 [7200/60000 (96%)]\tLoss: 0.142412\t训练正确率: 98.04%\t校验正确率: 98.86%\n",
      "训练周期: 18 [0/60000 (0%)]\tLoss: 0.081375\t训练正确率: 98.44%\t校验正确率: 98.80%\n",
      "训练周期: 18 [800/60000 (11%)]\tLoss: 0.046305\t训练正确率: 98.13%\t校验正确率: 98.72%\n",
      "训练周期: 18 [1600/60000 (21%)]\tLoss: 0.084179\t训练正确率: 98.14%\t校验正确率: 98.72%\n",
      "训练周期: 18 [2400/60000 (32%)]\tLoss: 0.045833\t训练正确率: 98.13%\t校验正确率: 98.78%\n",
      "训练周期: 18 [3200/60000 (43%)]\tLoss: 0.029947\t训练正确率: 98.09%\t校验正确率: 98.42%\n",
      "训练周期: 18 [4000/60000 (53%)]\tLoss: 0.129927\t训练正确率: 98.07%\t校验正确率: 98.58%\n",
      "训练周期: 18 [4800/60000 (64%)]\tLoss: 0.118945\t训练正确率: 98.11%\t校验正确率: 98.62%\n",
      "训练周期: 18 [5600/60000 (75%)]\tLoss: 0.151866\t训练正确率: 98.16%\t校验正确率: 98.68%\n",
      "训练周期: 18 [6400/60000 (85%)]\tLoss: 0.018786\t训练正确率: 98.16%\t校验正确率: 98.68%\n",
      "训练周期: 18 [7200/60000 (96%)]\tLoss: 0.083489\t训练正确率: 98.13%\t校验正确率: 98.64%\n",
      "训练周期: 19 [0/60000 (0%)]\tLoss: 0.012962\t训练正确率: 100.00%\t校验正确率: 98.78%\n",
      "训练周期: 19 [800/60000 (11%)]\tLoss: 0.057587\t训练正确率: 98.28%\t校验正确率: 98.80%\n",
      "训练周期: 19 [1600/60000 (21%)]\tLoss: 0.020694\t训练正确率: 98.27%\t校验正确率: 98.82%\n",
      "训练周期: 19 [2400/60000 (32%)]\tLoss: 0.112819\t训练正确率: 98.20%\t校验正确率: 98.74%\n",
      "训练周期: 19 [3200/60000 (43%)]\tLoss: 0.106254\t训练正确率: 98.16%\t校验正确率: 98.92%\n",
      "训练周期: 19 [4000/60000 (53%)]\tLoss: 0.032912\t训练正确率: 98.13%\t校验正确率: 98.82%\n",
      "训练周期: 19 [4800/60000 (64%)]\tLoss: 0.016505\t训练正确率: 98.11%\t校验正确率: 98.86%\n",
      "训练周期: 19 [5600/60000 (75%)]\tLoss: 0.019207\t训练正确率: 98.08%\t校验正确率: 98.84%\n",
      "训练周期: 19 [6400/60000 (85%)]\tLoss: 0.078611\t训练正确率: 98.06%\t校验正确率: 98.80%\n",
      "训练周期: 19 [7200/60000 (96%)]\tLoss: 0.009863\t训练正确率: 98.09%\t校验正确率: 98.84%\n"
     ]
    }
   ],
   "source": [
    "def rightness(predictions, labels):\n",
    "    \"\"\"计算预测错误率的函数，其中predictions是模型给出的一组预测结果，batch_size行10列的矩阵，labels是数据之中的正确答案\"\"\"\n",
    "    pred = torch.max(predictions.data, 1)[1] # 对于任意一行（一个样本）的输出值的第1个维度，求最大，得到每一行的最大元素的下标\n",
    "    rights = pred.eq(labels.data.view_as(pred)).sum() #将下标与labels中包含的类别进行比较，并累计得到比较正确的数量\n",
    "    return rights, len(labels) #返回正确的数量和这一次一共比较了多少元素\n",
    "net = ConvNet() #新建一个卷积神经网络的实例\n",
    "\n",
    "criterion = nn.CrossEntropyLoss() #Loss函数的定义\n",
    "optimizer = optim.SGD(net.parameters(), lr=0.001, momentum=0.9) #定义优化器\n",
    "\n",
    "record = [] #记录准确率等数值的容器\n",
    "weights = [] #每若干步就记录一次卷积核\n",
    "\n",
    "#开始训练循环\n",
    "for epoch in range(num_epochs):\n",
    "    \n",
    "    train_rights = [] #记录训练数据集准确率的容器\n",
    "    for batch_idx, (data, target) in enumerate(train_loader):  #针对容器中的每一个批进行循环\n",
    "        data, target = data.clone().detach().requires_grad_(True), target.clone().detach() #将Tensor转化为Variable，data为图像，target为标签\n",
    "        net.train() # 给网络模型做标记，标志说模型在训练集上训练\n",
    "        output = net(data) #完成一次预测\n",
    "        loss = criterion(output, target) #计算误差\n",
    "        optimizer.zero_grad() #清空梯度\n",
    "        loss.backward() #反向传播\n",
    "        optimizer.step() #一步随机梯度下降\n",
    "        right = rightness(output, target) #计算准确率所需数值，返回正确的数值为（正确样例数，总样本数）\n",
    "        train_rights.append(right) #将计算结果装到列表容器中\n",
    "\n",
    "    \n",
    "        if batch_idx % 100 == 0: #每间隔100个batch执行一次\n",
    "            \n",
    "            #train_r为一个二元组，分别记录训练集中分类正确的数量和该集合中总的样本数\n",
    "            train_r = (sum([tup[0] for tup in train_rights]), sum([tup[1] for tup in train_rights]))\n",
    "            \n",
    "            net.eval() # 给网络模型做标记，标志说模型在训练集上训练\n",
    "            val_rights = [] #记录校验数据集准确率的容器\n",
    "            for (data, target) in validation_loader:\n",
    "                data, target = data.clone().detach().requires_grad_(True), target.clone().detach() \n",
    "                output = net(data) #完成一次预测\n",
    "                right = rightness(output, target) #计算准确率所需数值，返回正确的数值为（正确样例数，总样本数）\n",
    "                val_rights.append(right)\n",
    "            \n",
    "            #val_r为一个二元组，分别记录校验集中分类正确的数量和该集合中总的样本数\n",
    "            val_r = (sum([tup[0] for tup in val_rights]), sum([tup[1] for tup in val_rights]))\n",
    "            \n",
    "            #打印准确率等数值，其中正确率为本训练周期Epoch开始后到目前撮的正确率的平均值\n",
    "            print('训练周期: {} [{}/{} ({:.0f}%)]\\tLoss: {:.6f}\\t训练正确率: {:.2f}%\\t校验正确率: {:.2f}%'.format(\n",
    "                epoch, batch_idx * len(data), len(train_loader.dataset),\n",
    "                100. * batch_idx / len(train_loader),\n",
    "                loss.data, \n",
    "                100. * train_r[0].numpy() / train_r[1], \n",
    "                100. * val_r[0].numpy() / val_r[1]))\n",
    "            \n",
    "            #将准确率和权重等数值加载到容器中，以方便后续处理\n",
    "            record.append((100 - 100. * train_r[0].numpy() / train_r[1], 100 - 100. * val_r[0].numpy() / val_r[1]))\n",
    "            weights.append([net.conv1.weight.data.clone(), net.conv1.bias.data.clone(), \n",
    "                            net.conv2.weight.data.clone(), net.conv2.bias.data.clone()])\n",
    "            "
   ]
  },
  {
   "cell_type": "markdown",
   "metadata": {},
   "source": [
    "## 保存模型"
   ]
  },
  {
   "cell_type": "code",
   "execution_count": 16,
   "metadata": {},
   "outputs": [
    {
     "name": "stderr",
     "output_type": "stream",
     "text": [
      "D:\\Anacoda3\\lib\\site-packages\\torch\\serialization.py:256: UserWarning: Couldn't retrieve source code for container of type ConvNet. It won't be checked for correctness upon loading.\n",
      "  \"type \" + obj.__name__ + \". It won't be checked \"\n"
     ]
    }
   ],
   "source": [
    "os.chdir(r'D:\\JupyterNotebook\\深度学习原理与PyTorch实战-源代码\\06_Transfer Learning')\n",
    "# 在这里保存已经训练好的神经网络\n",
    "torch.save(net, 'minst_conv_checkpoint') #后面的字符串为保存文件的路径"
   ]
  },
  {
   "cell_type": "code",
   "execution_count": 17,
   "metadata": {},
   "outputs": [
    {
     "data": {
      "image/png": "[encoded data removed]",
      "text/plain": [
       "<Figure size 720x504 with 4 Axes>"
      ]
     },
     "metadata": {
      "needs_background": "light"
     },
     "output_type": "display_data"
    }
   ],
   "source": [
    "#提取第一层卷积层的卷积核\n",
    "plt.figure(figsize = (10, 7))\n",
    "for i in range(4):\n",
    "    plt.subplot(1,4,i + 1)\n",
    "    plt.imshow(net.conv1.weight.data.numpy()[i,0,...])\n"
   ]
  },
  {
   "cell_type": "code",
   "execution_count": 19,
   "metadata": {},
   "outputs": [
    {
     "data": {
      "image/png": "[encoded data removed]",
      "text/plain": [
       "<Figure size 720x504 with 4 Axes>"
      ]
     },
     "metadata": {
      "needs_background": "light"
     },
     "output_type": "display_data"
    }
   ],
   "source": [
    "#调用net的retrieve_features方法可以抽取出喂入当前数据后吐出来的所有特征图（第一个卷积和第二个卷积层）\n",
    "\n",
    "#首先定义读入的图片\n",
    "idx =100\n",
    "#它是从test_dataset中提取第idx个批次的第0个图，其次unsqueeze的作用是在最前面添加一维，\n",
    "#目的是为了让这个input_x的tensor是四维的，这样才能输入给net。补充的那一维表示batch。\n",
    "input_x = test_dataset[idx][0].unsqueeze(0) \n",
    "feature_maps = net.retrieve_features(input_x) #feature_maps是有两个元素的列表，分别表示第一层和第二层卷积的所有特征图\n",
    "\n",
    "plt.figure(figsize = (10, 7))\n",
    "\n",
    "#有四个特征图，循环把它们打印出来\n",
    "for i in range(4):\n",
    "    plt.subplot(1,4,i + 1)\n",
    "    plt.axis('off')\n",
    "    plt.imshow(feature_maps[0][0, i,...].data.numpy())"
   ]
  },
  {
   "cell_type": "code",
   "execution_count": 20,
   "metadata": {},
   "outputs": [
    {
     "data": {
      "image/png": "[encoded data removed]",
      "text/plain": [
       "<Figure size 1080x720 with 32 Axes>"
      ]
     },
     "metadata": {
      "needs_background": "light"
     },
     "output_type": "display_data"
    }
   ],
   "source": [
    "# 绘制第二层的卷积核\n",
    "plt.figure(figsize = (15, 10))\n",
    "for i in range(4):\n",
    "    for j in range(8):\n",
    "        plt.subplot(4, 8, i * 8 + j + 1)\n",
    "        plt.imshow(net.conv2.weight.data.numpy()[j, i,...])"
   ]
  },
  {
   "cell_type": "code",
   "execution_count": 21,
   "metadata": {},
   "outputs": [
    {
     "data": {
      "image/png": "[encoded data removed]",
      "text/plain": [
       "<Figure size 720x504 with 8 Axes>"
      ]
     },
     "metadata": {
      "needs_background": "light"
     },
     "output_type": "display_data"
    }
   ],
   "source": [
    "plt.figure(figsize = (10, 7))\n",
    "for i in range(8):\n",
    "    plt.subplot(2,4,i + 1)\n",
    "    plt.axis('off')\n",
    "    plt.imshow(feature_maps[1][0, i,...].data.numpy())\n",
    "    "
   ]
  },
  {
   "cell_type": "code",
   "execution_count": 22,
   "metadata": {},
   "outputs": [
    {
     "name": "stdout",
     "output_type": "stream",
     "text": [
      "98.92\n"
     ]
    }
   ],
   "source": [
    "#在测试集上分批运行，并计算总的正确率\n",
    "net.eval() #标志模型当前为运行阶段\n",
    "vals = [] #记录准确率所用列表\n",
    "\n",
    "#对测试数据集进行循环\n",
    "for data, target in test_loader:\n",
    "    data, target = data.clone().detach().requires_grad_(True), target.clone().detach()\n",
    "    output = net(data) #将特征数据喂入网络，得到分类的输出\n",
    "    val = rightness(output, target) #获得正确样本数以及总样本数\n",
    "    vals.append(val) #记录结果\n",
    "\n",
    "#计算准确率\n",
    "rights = (sum([tup[0] for tup in vals]), sum([tup[1] for tup in vals]))\n",
    "right_rate = 100. * rights[0].numpy() / rights[1]\n",
    "print(right_rate)"
   ]
  },
  {
   "cell_type": "code",
   "execution_count": 23,
   "metadata": {},
   "outputs": [
    {
     "name": "stdout",
     "output_type": "stream",
     "text": [
      "标签是： 9\n"
     ]
    },
    {
     "data": {
      "image/png": "[encoded data removed]",
      "text/plain": [
       "<Figure size 432x288 with 1 Axes>"
      ]
     },
     "metadata": {
      "needs_background": "light"
     },
     "output_type": "display_data"
    }
   ],
   "source": [
    "#随便从测试集中读入一张图片，并检验模型的分类结果，并绘制出来\n",
    "idx = 4000\n",
    "muteimg = test_dataset[idx][0].numpy()\n",
    "plt.imshow(muteimg[0,...])\n",
    "print('标签是：',test_dataset[idx][1])"
   ]
  },
  {
   "cell_type": "code",
   "execution_count": null,
   "metadata": {},
   "outputs": [],
   "source": []
  }
 ],
 "metadata": {
  "kernelspec": {
   "display_name": "Python 3",
   "language": "python",
   "name": "python3"
  },
  "language_info": {
   "codemirror_mode": {
    "name": "ipython",
    "version": 3
   },
   "file_extension": ".py",
   "mimetype": "text/x-python",
   "name": "python",
   "nbconvert_exporter": "python",
   "pygments_lexer": "ipython3",
   "version": "3.7.1"
  }
 },
 "nbformat": 4,
 "nbformat_minor": 2
}
